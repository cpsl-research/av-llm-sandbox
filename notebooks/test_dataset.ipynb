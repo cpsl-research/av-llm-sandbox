{
 "cells": [
  {
   "cell_type": "code",
   "execution_count": null,
   "metadata": {},
   "outputs": [],
   "source": [
    "from avapi.nuscenes import nuScenesManager\n",
    "\n",
    "\n",
    "data_dir = \"/home/data/nuScenes\"\n",
    "NSM = nuScenesManager(data_dir)\n",
    "NDM = NSM.get_scene_dataset_by_index(0)"
   ]
  },
  {
   "cell_type": "code",
   "execution_count": null,
   "metadata": {},
   "outputs": [],
   "source": [
    "import json\n",
    "\n",
    "\n",
    "# load the dataset\n",
    "json_path = \"../scripts/dataset_train.json\"\n",
    "with open(json_path, \"r\") as file:\n",
    "    index_dict = json.load(file)\n",
    "dataset = index_dict[\"dataset\"]\n",
    "\n",
    "\n",
    "# flatten to 1-d for indexing\n",
    "dataset_flat = [\n",
    "    frame\n",
    "    for scene in dataset.values()\n",
    "    for agent in scene.values()\n",
    "    for frame in agent.values()\n",
    "]"
   ]
  },
  {
   "cell_type": "code",
   "execution_count": null,
   "metadata": {},
   "outputs": [],
   "source": [
    "# investigate the speed in some frames\n",
    "idx = 2\n",
    "posit = dataset_flat[idx][\"agent_state\"][\"global\"][\"position\"]\n",
    "posit_local = dataset_flat[idx][\"agent_state\"][\"local\"][\"position\"]\n",
    "veloc = dataset_flat[idx][\"agent_state\"][\"global\"][\"velocity\"]\n",
    "speed = dataset_flat[idx][\"agent_state\"][\"global\"][\"speed\"]\n",
    "waypoints_3d = dataset_flat[idx][\"waypoints_3d\"]\n",
    "waypoints_bev = [(round(pt[0], 1), round(pt[2], 1)) for pt in waypoints_3d.values()]\n",
    "\n",
    "# print results\n",
    "print(f\"Velo: {veloc}\")\n",
    "print(f\"Speed: {speed:.1f}\")\n",
    "print(f\"Waypoints BEV: {waypoints_bev}\")\n",
    "print(f\"Position: {posit}\")\n",
    "print(f\"Position local: {posit_local}\")\n",
    "\n",
    "# test out position in the camera frame\n",
    "frame = dataset_flat[idx][\"frame\"]\n",
    "NDM = NSM.get_scene_dataset_by_name(dataset_flat[idx][\"scene\"])\n",
    "cam_calib = NDM.get_calibration(frame=frame, sensor=\"CAM_FRONT\")\n",
    "ego_state = NDM.get_ego(frame=frame)\n",
    "posit_camera = ego_state.position.change_reference(cam_calib.reference, inplace=False)\n",
    "print(f\"Position camera: {posit_camera.x}\")\n",
    "\n",
    "\n",
    "# print future position\n",
    "posit_future = NDM.get_ego(frame=frame + 2).position\n",
    "posit_future.change_reference(cam_calib.reference, inplace=True)\n",
    "print(f\"Two frame future: {posit_future.x}\")"
   ]
  },
  {
   "cell_type": "markdown",
   "metadata": {},
   "source": [
    "### Investigate position difference vs. velocity CAN reading"
   ]
  },
  {
   "cell_type": "code",
   "execution_count": null,
   "metadata": {},
   "outputs": [],
   "source": [
    "# Investigate position difference vs. velocity CAN reading\n",
    "vel_by_pos = []\n",
    "vel_by_can = []\n",
    "pos = []\n",
    "dt = 0.5 * 2\n",
    "for DM in NSM:\n",
    "    for frame in DM.frames[:-2]:\n",
    "        ego = DM.get_ego(frame=frame)\n",
    "        ego_next = DM.get_ego(frame=frame + 2)\n",
    "        dx = ego_next.position.x - ego.position.x\n",
    "        pos.append(ego.position.x)\n",
    "        vel_by_pos.append(dx / dt)\n",
    "        vel_by_can.append(ego.velocity.x)"
   ]
  },
  {
   "cell_type": "code",
   "execution_count": null,
   "metadata": {},
   "outputs": [],
   "source": [
    "import numpy as np\n",
    "import matplotlib.pyplot as plt\n",
    "\n",
    "\n",
    "vel_diff = np.array(vel_by_can) - np.array(vel_by_pos)\n",
    "plt.hist(np.linalg.norm(vel_diff, axis=1), bins=50)\n",
    "plt.show()\n",
    "\n",
    "\n",
    "for i in range(3):\n",
    "    plt.hist(vel_diff[:, i], label=i)\n",
    "    plt.legend()\n",
    "plt.show()"
   ]
  }
 ],
 "metadata": {
  "kernelspec": {
   "display_name": ".venv",
   "language": "python",
   "name": "python3"
  },
  "language_info": {
   "codemirror_mode": {
    "name": "ipython",
    "version": 3
   },
   "file_extension": ".py",
   "mimetype": "text/x-python",
   "name": "python",
   "nbconvert_exporter": "python",
   "pygments_lexer": "ipython3",
   "version": "3.10.12"
  }
 },
 "nbformat": 4,
 "nbformat_minor": 2
}
